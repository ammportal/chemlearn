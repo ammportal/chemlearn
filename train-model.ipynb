{
 "cells": [
  {
   "cell_type": "code",
   "execution_count": 383,
   "id": "6b43b978",
   "metadata": {},
   "outputs": [],
   "source": [
    "import pandas as pd\n",
    "import numpy as np\n",
    "import seaborn as sns\n",
    "import matplotlib.pyplot as plt\n",
    "from sklearn.preprocessing import StandardScaler\n",
    "%matplotlib inline"
   ]
  },
  {
   "cell_type": "code",
   "execution_count": 384,
   "id": "fee6a447",
   "metadata": {},
   "outputs": [],
   "source": [
    "input = 'data/'\n",
    "df = pd.read_excel(input + 'structured-dataset.xlsx', header=1, usecols='A,I,L', sheet_name='Mos_OR')"
   ]
  },
  {
   "cell_type": "code",
   "execution_count": 385,
   "id": "64252d35",
   "metadata": {},
   "outputs": [
    {
     "data": {
      "text/html": [
       "<div>\n",
       "<style scoped>\n",
       "    .dataframe tbody tr th:only-of-type {\n",
       "        vertical-align: middle;\n",
       "    }\n",
       "\n",
       "    .dataframe tbody tr th {\n",
       "        vertical-align: top;\n",
       "    }\n",
       "\n",
       "    .dataframe thead th {\n",
       "        text-align: right;\n",
       "    }\n",
       "</style>\n",
       "<table border=\"1\" class=\"dataframe\">\n",
       "  <thead>\n",
       "    <tr style=\"text-align: right;\">\n",
       "      <th></th>\n",
       "      <th>response</th>\n",
       "    </tr>\n",
       "  </thead>\n",
       "  <tbody>\n",
       "    <tr>\n",
       "      <th>count</th>\n",
       "      <td>5650.000000</td>\n",
       "    </tr>\n",
       "    <tr>\n",
       "      <th>mean</th>\n",
       "      <td>13.277699</td>\n",
       "    </tr>\n",
       "    <tr>\n",
       "      <th>std</th>\n",
       "      <td>39.819542</td>\n",
       "    </tr>\n",
       "    <tr>\n",
       "      <th>min</th>\n",
       "      <td>-53.000000</td>\n",
       "    </tr>\n",
       "    <tr>\n",
       "      <th>25%</th>\n",
       "      <td>-4.000000</td>\n",
       "    </tr>\n",
       "    <tr>\n",
       "      <th>50%</th>\n",
       "      <td>1.000000</td>\n",
       "    </tr>\n",
       "    <tr>\n",
       "      <th>75%</th>\n",
       "      <td>12.000000</td>\n",
       "    </tr>\n",
       "    <tr>\n",
       "      <th>max</th>\n",
       "      <td>265.000000</td>\n",
       "    </tr>\n",
       "  </tbody>\n",
       "</table>\n",
       "</div>"
      ],
      "text/plain": [
       "          response\n",
       "count  5650.000000\n",
       "mean     13.277699\n",
       "std      39.819542\n",
       "min     -53.000000\n",
       "25%      -4.000000\n",
       "50%       1.000000\n",
       "75%      12.000000\n",
       "max     265.000000"
      ]
     },
     "execution_count": 385,
     "metadata": {},
     "output_type": "execute_result"
    }
   ],
   "source": [
    "df.describe()"
   ]
  },
  {
   "cell_type": "code",
   "execution_count": 386,
   "id": "be3e4baf",
   "metadata": {},
   "outputs": [
    {
     "name": "stdout",
     "output_type": "stream",
     "text": [
      "<class 'pandas.core.frame.DataFrame'>\n",
      "RangeIndex: 5600 entries, 0 to 5599\n",
      "Data columns (total 4 columns):\n",
      " #   Column        Non-Null Count  Dtype  \n",
      "---  ------        --------------  -----  \n",
      " 0   odor          5600 non-null   object \n",
      " 1   or            5600 non-null   object \n",
      " 2   response      5600 non-null   float64\n",
      " 3   response_std  5600 non-null   float64\n",
      "dtypes: float64(2), object(2)\n",
      "memory usage: 175.1+ KB\n"
     ]
    }
   ],
   "source": [
    "response_df = df.groupby(['odor', 'or'], as_index=False).response.max()\n",
    "y_raw = response_df['response'].values.reshape((-1, 1))\n",
    "y_bin = y_raw > 10\n",
    "y_bin = y_bin.reshape((-1, 50))\n",
    "y = StandardScaler().fit_transform(y_raw)\n",
    "response_df['response_std'] = y\n",
    "y = y.reshape((-1, 50))\n",
    "response_df.info()"
   ]
  },
  {
   "cell_type": "code",
   "execution_count": 387,
   "id": "5a979775",
   "metadata": {},
   "outputs": [
    {
     "data": {
      "text/plain": [
       "<AxesSubplot:xlabel='response_std', ylabel='Count'>"
      ]
     },
     "execution_count": 387,
     "metadata": {},
     "output_type": "execute_result"
    },
    {
     "data": {
      "image/png": "[encoded data removed]",
      "text/plain": [
       "<Figure size 432x288 with 1 Axes>"
      ]
     },
     "metadata": {
      "needs_background": "light"
     },
     "output_type": "display_data"
    }
   ],
   "source": [
    "sns.histplot(x='response_std', data=response_df, kde=True)"
   ]
  },
  {
   "cell_type": "code",
   "execution_count": 388,
   "id": "7ad18e6c",
   "metadata": {},
   "outputs": [],
   "source": [
    "odor = pd.read_csv(input + 'odor-selected-descriptors-data.csv', sep='#')"
   ]
  },
  {
   "cell_type": "code",
   "execution_count": 389,
   "id": "e16fffe1",
   "metadata": {},
   "outputs": [],
   "source": [
    "X=odor.drop(['odor_sheet_name', 'odor_pubchem_name', 'cid', 'iupac_name', 'isomeric_smiles'], axis=1)"
   ]
  },
  {
   "cell_type": "code",
   "execution_count": 390,
   "id": "f80ad7f4",
   "metadata": {},
   "outputs": [],
   "source": [
    "X = StandardScaler().fit_transform(X)"
   ]
  },
  {
   "cell_type": "code",
   "execution_count": 391,
   "id": "d09b8578",
   "metadata": {},
   "outputs": [],
   "source": [
    "from sklearn.model_selection import train_test_split\n",
    "from sklearn.neural_network import MLPRegressor\n",
    "from sklearn.metrics import mean_squared_error as mse"
   ]
  },
  {
   "cell_type": "code",
   "execution_count": 403,
   "id": "24364f7a",
   "metadata": {},
   "outputs": [],
   "source": [
    "random_states = list(range(20))\n",
    "rmse_scores = []\n",
    "clf = []\n",
    "for state in random_states:\n",
    "    X_train, X_test, y_train, y_test = train_test_split(X, y, test_size=0.2, random_state=state)\n",
    "    clf.append(MLPRegressor(hidden_layer_sizes=(50,100, 100), max_iter = 1000, random_state=1).fit(X_train, y_train))\n",
    "    rmse_scores.append([mse(y_test, clf[state].predict(X_test))**0.5, mse(y_train, clf[state].predict(X_train))**0.5, mse(y, clf[state].predict(X))**0.5])"
   ]
  },
  {
   "cell_type": "code",
   "execution_count": 404,
   "id": "057245bb",
   "metadata": {},
   "outputs": [
    {
     "data": {
      "text/plain": [
       "array([1.2755095 , 0.12157736, 0.58843436])"
      ]
     },
     "execution_count": 404,
     "metadata": {},
     "output_type": "execute_result"
    }
   ],
   "source": [
    "np.mean(rmse_scores, axis=0)"
   ]
  },
  {
   "cell_type": "code",
   "execution_count": 405,
   "id": "c9c9811d",
   "metadata": {},
   "outputs": [
    {
     "data": {
      "text/plain": [
       "1.4233178920708103"
      ]
     },
     "execution_count": 405,
     "metadata": {},
     "output_type": "execute_result"
    }
   ],
   "source": [
    "np.random.shuffle(y_raw)\n",
    "y_shuffle = StandardScaler().fit_transform(y_raw)\n",
    "y_shuffle = y_shuffle.reshape((-1, 50))\n",
    "mse(y_shuffle, y)**0.5"
   ]
  },
  {
   "cell_type": "code",
   "execution_count": 406,
   "id": "79b1f3e8",
   "metadata": {},
   "outputs": [
    {
     "data": {
      "text/plain": [
       "1.354400235239755"
      ]
     },
     "execution_count": 406,
     "metadata": {},
     "output_type": "execute_result"
    }
   ],
   "source": [
    "mse(y_test, clf[-1].predict(X_test))**0.5"
   ]
  },
  {
   "cell_type": "code",
   "execution_count": null,
   "id": "f7418787",
   "metadata": {},
   "outputs": [],
   "source": []
  },
  {
   "cell_type": "code",
   "execution_count": null,
   "id": "e56eca5e",
   "metadata": {},
   "outputs": [],
   "source": []
  }
 ],
 "metadata": {
  "kernelspec": {
   "display_name": "chemlearn",
   "language": "python",
   "name": "chemlearn"
  },
  "language_info": {
   "codemirror_mode": {
    "name": "ipython",
    "version": 3
   },
   "file_extension": ".py",
   "mimetype": "text/x-python",
   "name": "python",
   "nbconvert_exporter": "python",
   "pygments_lexer": "ipython3",
   "version": "3.7.11"
  }
 },
 "nbformat": 4,
 "nbformat_minor": 5
}
